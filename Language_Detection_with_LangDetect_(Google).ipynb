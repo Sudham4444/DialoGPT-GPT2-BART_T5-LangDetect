{
  "cells": [
    {
      "cell_type": "code",
      "execution_count": 1,
      "metadata": {
        "colab": {
          "base_uri": "https://localhost:8080/"
        },
        "id": "rvl5d3i9t357",
        "outputId": "5d2efbb2-694e-45b9-8d7d-fcab08031bb3"
      },
      "outputs": [
        {
          "name": "stdout",
          "output_type": "stream",
          "text": [
            "Requirement already satisfied: langdetect in c:\\users\\duste\\appdata\\local\\programs\\python\\python312\\lib\\site-packages (1.0.9)\n",
            "Requirement already satisfied: six in c:\\users\\duste\\appdata\\roaming\\python\\python312\\site-packages (from langdetect) (1.16.0)\n"
          ]
        }
      ],
      "source": [
        "!pip install langdetect"
      ]
    },
    {
      "cell_type": "code",
      "execution_count": 2,
      "metadata": {
        "colab": {
          "base_uri": "https://localhost:8080/"
        },
        "id": "VsjNTEwCfgr2",
        "outputId": "0f0fe825-fcd0-4c1c-ad22-f406ecf61a42"
      },
      "outputs": [
        {
          "name": "stdout",
          "output_type": "stream",
          "text": [
            "Detected Language: mr\n"
          ]
        }
      ],
      "source": [
        "from langdetect import detect, DetectorFactory\n",
        "from langdetect.lang_detect_exception import LangDetectException\n",
        "\n",
        "DetectorFactory.seed = 0\n",
        "\n",
        "def detect_language(text):\n",
        "    try:\n",
        "        language = detect(text)\n",
        "        return language\n",
        "    except LangDetectException:\n",
        "        return \"Could not detect language\"\n",
        "\n",
        "text = \"हे मराठी वाक्य आहे.\"\n",
        "detected_language = detect_language(text)\n",
        "print(f\"Detected Language: {detected_language}\")"
      ]
    },
    {
      "cell_type": "code",
      "execution_count": 3,
      "metadata": {
        "colab": {
          "base_uri": "https://localhost:8080/"
        },
        "id": "9N8HbpNtfWqQ",
        "outputId": "22129223-3729-4121-f0ab-6e6e827b2aaa"
      },
      "outputs": [
        {
          "name": "stdout",
          "output_type": "stream",
          "text": [
            "[en:0.9999965199539704]\n"
          ]
        }
      ],
      "source": [
        "from langdetect import detect_langs\n",
        "\n",
        "text = \"This is an English sentence.\"\n",
        "languages = detect_langs(text)\n",
        "print(languages)"
      ]
    },
    {
      "cell_type": "code",
      "execution_count": null,
      "metadata": {
        "id": "pCE0UohsfeDt"
      },
      "outputs": [],
      "source": []
    }
  ],
  "metadata": {
    "colab": {
      "provenance": []
    },
    "kernelspec": {
      "display_name": "Python 3",
      "name": "python3"
    },
    "language_info": {
      "codemirror_mode": {
        "name": "ipython",
        "version": 3
      },
      "file_extension": ".py",
      "mimetype": "text/x-python",
      "name": "python",
      "nbconvert_exporter": "python",
      "pygments_lexer": "ipython3",
      "version": "3.12.3"
    }
  },
  "nbformat": 4,
  "nbformat_minor": 0
}
